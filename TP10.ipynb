{
 "cells": [
  {
   "cell_type": "markdown",
   "id": "f5c742bd",
   "metadata": {},
   "source": [
    "# TP10 - Markov Chains\n",
    "Eliott Van Dieren - epfl"
   ]
  },
  {
   "cell_type": "code",
   "execution_count": 1,
   "id": "0f34d592",
   "metadata": {},
   "outputs": [],
   "source": [
    "import numpy as np\n",
    "import scipy.stats as st\n",
    "import matplotlib.pyplot as plt\n",
    "import math\n",
    "from sobol_new import *"
   ]
  },
  {
   "cell_type": "markdown",
   "id": "2ae16038",
   "metadata": {},
   "source": [
    "## 1. Markov Chains for random walk"
   ]
  },
  {
   "cell_type": "code",
   "execution_count": 85,
   "id": "40da84b6",
   "metadata": {},
   "outputs": [
    {
     "name": "stdout",
     "output_type": "stream",
     "text": [
      "[0.85714286 0.12244898 0.01749271]\n",
      "[0.42857143 0.48979592 0.06997085]\n"
     ]
    }
   ],
   "source": [
    "p = 1/8\n",
    "N = 100\n",
    "m = N+1\n",
    "X = np.zeros((m,N))\n",
    "Z = np.zeros((m,N))\n",
    "for i in range(m):\n",
    "    Y = 2*st.bernoulli.rvs(p, size=N-1)-1\n",
    "    for j in range(N-1):\n",
    "        X[i][j+1] = max(X[i][j] + Y[j],0)\n",
    "        Z[i][j+1] = np.abs(Z[i][j] + Y[j])\n",
    "pi_x = np.array([1,p/(1-p),(p/(1-p))**2])*(1-2*p)/(1-p)\n",
    "pi_z = np.array([1,1/(1-p),(p/(1-p)**2)])/2.333333333333333\n",
    "print(pi_x)\n",
    "print(pi_z)"
   ]
  },
  {
   "cell_type": "code",
   "execution_count": 88,
   "id": "23ce1890",
   "metadata": {},
   "outputs": [
    {
     "data": {
      "image/png": "[encoded data removed]",
      "text/plain": [
       "<Figure size 432x288 with 1 Axes>"
      ]
     },
     "metadata": {
      "needs_background": "light"
     },
     "output_type": "display_data"
    },
    {
     "data": {
      "image/png": "[encoded data removed]",
      "text/plain": [
       "<Figure size 432x288 with 1 Axes>"
      ]
     },
     "metadata": {
      "needs_background": "light"
     },
     "output_type": "display_data"
    }
   ],
   "source": [
    "plt.figure()\n",
    "plt.hist(X[0],bins=60)\n",
    "plt.xlabel(\"States\")\n",
    "plt.ylabel(\"$P(X_n = i)$\")\n",
    "plt.show()\n",
    "\n",
    "plt.figure()\n",
    "plt.hist(Z,bins=60,density=True)\n",
    "plt.xlabel(\"States\")\n",
    "plt.ylabel(\"$P(Z_n = i)$\")\n",
    "plt.show()"
   ]
  },
  {
   "cell_type": "code",
   "execution_count": 75,
   "id": "78a3ffe4",
   "metadata": {},
   "outputs": [
    {
     "name": "stdout",
     "output_type": "stream",
     "text": [
      "\n"
     ]
    }
   ],
   "source": [
    "# finding b_0\n",
    "Z = np.zeros(10000)\n",
    "Z[0] = 1\n",
    "for k in range(1,1000):\n",
    "    Z[k] = p**(k-1)/(1-p)**k\n",
    "\n",
    "np.sum(Z)\n",
    "print()"
   ]
  },
  {
   "cell_type": "code",
   "execution_count": null,
   "id": "e88a4560",
   "metadata": {},
   "outputs": [],
   "source": []
  }
 ],
 "metadata": {
  "kernelspec": {
   "display_name": "Python 3 (ipykernel)",
   "language": "python",
   "name": "python3"
  },
  "language_info": {
   "codemirror_mode": {
    "name": "ipython",
    "version": 3
   },
   "file_extension": ".py",
   "mimetype": "text/x-python",
   "name": "python",
   "nbconvert_exporter": "python",
   "pygments_lexer": "ipython3",
   "version": "3.9.7"
  }
 },
 "nbformat": 4,
 "nbformat_minor": 5
}
