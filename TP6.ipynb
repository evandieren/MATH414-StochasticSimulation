{
 "cells": [
  {
   "cell_type": "markdown",
   "id": "d20e6f22",
   "metadata": {},
   "source": [
    "# TP6 - Stochastic process generation\n",
    "Eliott Van Dieren - epfl"
   ]
  },
  {
   "cell_type": "code",
   "execution_count": 1,
   "id": "2a419e49",
   "metadata": {},
   "outputs": [],
   "source": [
    "import numpy as np\n",
    "import scipy.stats as st\n",
    "import matplotlib.pyplot as plt\n",
    "from statsmodels.distributions.empirical_distribution import ECDF\n",
    "from scipy.special import erf\n",
    "import math\n",
    "import scipy.integrate as integrate\n",
    "import scipy.special as special\n",
    "import time\n",
    "from random import randint\n",
    "import sympy"
   ]
  },
  {
   "cell_type": "markdown",
   "id": "8816918b",
   "metadata": {},
   "source": [
    "## 1. Variance Reduction on Gaussian random vector distribution"
   ]
  },
  {
   "cell_type": "markdown",
   "id": "1ee1017c",
   "metadata": {},
   "source": [
    "1) Let $Z = \\psi(X)$ where $X \\sim f = N(\\mu=0,\\Sigma)$ and $\\psi(X) = \\mathbb{1}_{A}$, then we compute\n",
    "$\\mathbb{E}[Z] = \\int_{\\mathbb{R}^d}\\mathbb{1_A}(x)\\frac{f(x)}{g(x)}g(x)dx$ which will give us $P(X \\in A)$"
   ]
  },
  {
   "cell_type": "code",
   "execution_count": 2,
   "id": "1a75e51e",
   "metadata": {},
   "outputs": [],
   "source": [
    "d = 2\n",
    "Sigma = np.array([4,-1,-1,4]).reshape(2,2)\n",
    "a = np.array([1,3,10])"
   ]
  },
  {
   "cell_type": "code",
   "execution_count": 3,
   "id": "8e647cc4",
   "metadata": {},
   "outputs": [
    {
     "name": "stdout",
     "output_type": "stream",
     "text": [
      "[0.06501679 0.0013679  0.        ] [0.06511307 0.00138248 0.        ]\n"
     ]
    }
   ],
   "source": [
    "# Crude Monte-Carlo\n",
    "\n",
    "def p_mc(a):\n",
    "    N = 10000\n",
    "    p_mc = np.zeros(len(a))\n",
    "    X = st.multivariate_normal.rvs(mean=[0,0],cov=Sigma,size=N)\n",
    "    for idx,val_a in enumerate(a):\n",
    "        p_mc[idx] = len(X[(X[:,0]>=val_a) & (X[:,1]>=val_a)])/N\n",
    "    return p_mc\n",
    "\n",
    "K = 10000\n",
    "boot_p_mc = np.zeros((K,len(a)))\n",
    "for _ in range(K):\n",
    "    boot_p_mc[_,:] = p_mc(a)\n",
    "    \n",
    "print(np.mean(boot_p_mc,axis=0)-1.96*np.std(boot_p_mc,axis=0)/np.sqrt(K),np.mean(boot_p_mc,axis=0)+1.96*np.std(boot_p_mc,axis=0)/np.sqrt(K))"
   ]
  },
  {
   "cell_type": "code",
   "execution_count": null,
   "id": "c068c577",
   "metadata": {},
   "outputs": [],
   "source": []
  },
  {
   "cell_type": "code",
   "execution_count": 4,
   "id": "3c81cf79",
   "metadata": {},
   "outputs": [],
   "source": [
    "# Importance sampling\n",
    "# x_star is just (a,a) (graphical reasoning)\n",
    "def p_is(a,delta):\n",
    "    p_is = np.zeros(len(a))\n",
    "    N=10000\n",
    "    f = st.multivariate_normal(mean=[0,0],cov=delta*Sigma)\n",
    "    for idx,val_a in enumerate(a):\n",
    "        g = st.multivariate_normal(mean=[val_a,val_a],cov=Sigma)\n",
    "        X = g.rvs(size=N)\n",
    "        psi_x = (X[:,0]>=val_a) & (X[:,1]>=val_a)\n",
    "        f_x = f.pdf(X)\n",
    "        g_x = g.pdf(X)\n",
    "        p_is[idx] = np.sum(psi_x*f_x/g_x)/N\n",
    "    return p_is"
   ]
  },
  {
   "cell_type": "code",
   "execution_count": 5,
   "id": "cc59b9d4",
   "metadata": {},
   "outputs": [],
   "source": [
    "delta = np.arange(0.01,5,0.1)\n",
    "out_p_is = np.zeros((len(delta),3))\n",
    "for idx,d in enumerate(delta):\n",
    "    out_p_is[idx,:] = p_is(a,d)"
   ]
  },
  {
   "cell_type": "code",
   "execution_count": 6,
   "id": "a718c909",
   "metadata": {},
   "outputs": [
    {
     "data": {
      "image/png": "[encoded data removed]",
      "text/plain": [
       "<Figure size 720x360 with 1 Axes>"
      ]
     },
     "metadata": {
      "needs_background": "light"
     },
     "output_type": "display_data"
    }
   ],
   "source": [
    "fig,ax = plt.subplots(1,figsize=(10,5))\n",
    "ax.plot(delta,out_p_is,label=[\"a=1\",\"a=3\",\"a=10\"])\n",
    "ax.set_xlabel(\"Delta values\")\n",
    "ax.set_ylabel(\"P estimates\")\n",
    "plt.legend()\n",
    "plt.grid()\n",
    "plt.show()"
   ]
  },
  {
   "cell_type": "markdown",
   "id": "ce9da125",
   "metadata": {},
   "source": [
    "## 2. Pricing of a Barrier option with antithetic variables"
   ]
  },
  {
   "cell_type": "code",
   "execution_count": 95,
   "id": "f5da8fd1",
   "metadata": {},
   "outputs": [],
   "source": [
    "# Parameters\n",
    "r = 0.5\n",
    "sigma = 0.3\n",
    "S_0 = 5\n",
    "T = 2\n",
    "K = 10\n",
    "m = 1000\n",
    "dt = T/m\n",
    "N = 100\n",
    "B = 2\n",
    "\n",
    "# Antithetic variables \n",
    "X_t = (r-sigma**2/2)*np.arange(0,T+dt,dt) + sigma*st.norm.rvs(size=(int(N/2),m+1))\n",
    "X_t_rev = 2*np.mean(X_t,axis=0)-X_t\n",
    "S_t = S_0*np.exp(X_t)\n",
    "S_t_rev = S_0*np.exp(X_t_rev)\n",
    "\n",
    "#Payoff computation\n",
    "Payoff = np.maximum(S_t[:,-1]-K,0)*(B<=np.min(S_t,axis=1))\n",
    "Payoff_rev = np.maximum(S_t_rev[:,-1]-K,0)*(B<=np.min(S_t_rev,axis=1))\n",
    "E_payoff = np.sum(Payoff+Payoff_rev)/N\n",
    "\n",
    "# Voir correction pour savoir comment faire ces variables, car j'ai pas de correlation négative :/"
   ]
  },
  {
   "cell_type": "markdown",
   "id": "64c525cb",
   "metadata": {},
   "source": [
    "## 3. Random walk with antithetic variables"
   ]
  },
  {
   "cell_type": "code",
   "execution_count": 124,
   "id": "296f6d4f",
   "metadata": {
    "scrolled": true
   },
   "outputs": [],
   "source": [
    "# Parameters\n",
    "a = 1/3\n",
    "K = 4\n",
    "T = 10\n",
    "n = 1000\n",
    "X = np.zeros(n+1)\n",
    "\n",
    "U = np.random.uniform(0.0,1.0,n)\n",
    "for i,u in enumerate(U):\n",
    "    if u<a:\n",
    "        X[i+1] = X[i]+1\n",
    "    else:\n",
    "        X[i+1] = X[i]-1\n",
    "\n",
    "fig, ax = plt.subplots(1,figsize=(20,10))\n",
    "plt.plot(np.arange(n+1),X)\n",
    "plt.show()"
   ]
  },
  {
   "cell_type": "code",
   "execution_count": 128,
   "id": "895ee7b2",
   "metadata": {},
   "outputs": [],
   "source": [
    "# MC\n",
    "N = 1000\n",
    "X_MC = np.zeros((N,n+1))\n",
    "for idx in range(N):\n",
    "    U = np.random.uniform(0.0,1.0,n)\n",
    "    for i,u in enumerate(U):\n",
    "        if u<a:\n",
    "            X_MC[idx,i+1] = X[i]+1\n",
    "        else:\n",
    "            X_MC[idx,i+1] = X[i]-1"
   ]
  },
  {
   "cell_type": "code",
   "execution_count": 141,
   "id": "31dadf96",
   "metadata": {},
   "outputs": [],
   "source": [
    "## Il pue leur K"
   ]
  },
  {
   "cell_type": "code",
   "execution_count": null,
   "id": "ca660bcf",
   "metadata": {},
   "outputs": [],
   "source": []
  }
 ],
 "metadata": {
  "kernelspec": {
   "display_name": "Python 3 (ipykernel)",
   "language": "python",
   "name": "python3"
  },
  "language_info": {
   "codemirror_mode": {
    "name": "ipython",
    "version": 3
   },
   "file_extension": ".py",
   "mimetype": "text/x-python",
   "name": "python",
   "nbconvert_exporter": "python",
   "pygments_lexer": "ipython3",
   "version": "3.9.7"
  }
 },
 "nbformat": 4,
 "nbformat_minor": 5
}
