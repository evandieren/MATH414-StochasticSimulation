{
 "cells": [
  {
   "cell_type": "markdown",
   "id": "1ea27120",
   "metadata": {},
   "source": [
    "# TP7 - Stochastic process generation\n",
    "Eliott Van Dieren - epfl"
   ]
  },
  {
   "cell_type": "code",
   "execution_count": 2,
   "id": "2507b6b8",
   "metadata": {},
   "outputs": [],
   "source": [
    "import numpy as np\n",
    "import scipy.stats as st\n",
    "import matplotlib.pyplot as plt\n",
    "from statsmodels.distributions.empirical_distribution import ECDF\n",
    "from scipy.special import erf\n",
    "import math\n",
    "import scipy.integrate as integrate\n",
    "import scipy.special as special\n",
    "import time\n",
    "from random import randint"
   ]
  },
  {
   "cell_type": "markdown",
   "id": "7391861f",
   "metadata": {},
   "source": [
    "## 1. Importance sampling for random walk process\n",
    "\n",
    "$Pr(\\tau < T) = \\mathbb{E}[I_{\\tau<T}]$ by Bernoulli, so here, $\\psi(X_0,...,X_N) = I_{ \\tau<T}$ where $ \\tau_N = inf {n : X_n = N}"
   ]
  },
  {
   "cell_type": "code",
   "execution_count": 43,
   "id": "03cac1e2",
   "metadata": {},
   "outputs": [
    {
     "name": "stdout",
     "output_type": "stream",
     "text": [
      "0.0015078781400034297\n"
     ]
    }
   ],
   "source": [
    "a = 0.6\n",
    "n = 100000\n",
    "prob = np.zeros(n)\n",
    "N = 4\n",
    "T = 10\n",
    "m = 10000\n",
    "\n",
    "for i in range(n):\n",
    "    X = [0]\n",
    "    q_vals = []\n",
    "    U = np.random.uniform(0.0,1.0,m)\n",
    "    tau = -1\n",
    "    for i,u in enumerate(U):\n",
    "        if X[i] == N:\n",
    "            tau = i\n",
    "            break\n",
    "        if u<a:\n",
    "            X.append(X[i]+1)\n",
    "            q_vals.append(a)\n",
    "        else:\n",
    "            X.append(X[i]-1)\n",
    "            q_vals.append(1-a)\n",
    "    w = 1/(np.prod(q_vals)*2**(len(q_vals)))\n",
    "    prob[i] = (tau<T)*w\n",
    "print(sum(prob)/n*100)"
   ]
  },
  {
   "cell_type": "code",
   "execution_count": 9,
   "id": "0b9c040f",
   "metadata": {},
   "outputs": [
    {
     "data": {
      "text/plain": [
       "inf"
      ]
     },
     "execution_count": 9,
     "metadata": {},
     "output_type": "execute_result"
    }
   ],
   "source": [
    "np.inf"
   ]
  },
  {
   "cell_type": "code",
   "execution_count": null,
   "id": "8d2d037a",
   "metadata": {},
   "outputs": [],
   "source": []
  }
 ],
 "metadata": {
  "kernelspec": {
   "display_name": "Python 3 (ipykernel)",
   "language": "python",
   "name": "python3"
  },
  "language_info": {
   "codemirror_mode": {
    "name": "ipython",
    "version": 3
   },
   "file_extension": ".py",
   "mimetype": "text/x-python",
   "name": "python",
   "nbconvert_exporter": "python",
   "pygments_lexer": "ipython3",
   "version": "3.9.7"
  }
 },
 "nbformat": 4,
 "nbformat_minor": 5
}
